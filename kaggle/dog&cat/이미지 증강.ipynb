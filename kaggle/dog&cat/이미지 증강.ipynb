{
 "cells": [
  {
   "cell_type": "code",
   "execution_count": 4,
   "id": "946dd9a7",
   "metadata": {},
   "outputs": [],
   "source": [
    "import tensorflow as tf\n",
    "import numpy as np"
   ]
  },
  {
   "cell_type": "code",
   "execution_count": 7,
   "id": "13c58cf6",
   "metadata": {},
   "outputs": [
    {
     "name": "stdout",
     "output_type": "stream",
     "text": [
      "Found 25000 files belonging to 2 classes.\n",
      "Using 20000 files for training.\n",
      "Found 25000 files belonging to 2 classes.\n",
      "Using 5000 files for validation.\n",
      "<BatchDataset shapes: ((None, 64, 64, 3), (None,)), types: (tf.float32, tf.int32)>\n"
     ]
    }
   ],
   "source": [
    "train_ds = tf.keras.preprocessing.image_dataset_from_directory(\n",
    "    './data/dataset/',\n",
    "    image_size=(64,64),\n",
    "    batch_size=64,\n",
    "    subset='training',\n",
    "    validation_split=0.2,\n",
    "    seed=1234\n",
    ")\n",
    "\n",
    "val_ds = tf.keras.preprocessing.image_dataset_from_directory(\n",
    "    './data/dataset/',\n",
    "    image_size=(64,64),\n",
    "    batch_size=64,\n",
    "    subset='validation',\n",
    "    validation_split=0.2,\n",
    "    seed=1234\n",
    ")\n",
    "\n",
    "print(train_ds)\n",
    "\n",
    "# 데이터 전처리\n",
    "# 255를 0~1로 압축 시간을 감소 시켜 보려 했으나 큰 차이가 없네\n",
    "def 전처리함수(i, 정답):\n",
    "    i = tf.cast(i/255.0, tf.float32)\n",
    "    return i, 정답\n",
    "\n",
    "train_ds = train_ds.map(전처리함수)\n",
    "val_ds = val_ds.map(전처리함수)"
   ]
  },
  {
   "cell_type": "code",
   "execution_count": 14,
   "id": "7bcc9786",
   "metadata": {},
   "outputs": [
    {
     "name": "stdout",
     "output_type": "stream",
     "text": [
      "Epoch 1/5\n",
      "313/313 [==============================] - 362s 1s/step - loss: 0.6085 - accuracy: 0.6560 - val_loss: 0.5640 - val_accuracy: 0.7080\n",
      "Epoch 2/5\n",
      "313/313 [==============================] - 105s 337ms/step - loss: 0.5164 - accuracy: 0.7441 - val_loss: 0.5238 - val_accuracy: 0.7360\n",
      "Epoch 3/5\n",
      "313/313 [==============================] - 105s 336ms/step - loss: 0.4664 - accuracy: 0.7798 - val_loss: 0.4275 - val_accuracy: 0.8048\n",
      "Epoch 4/5\n",
      "313/313 [==============================] - 103s 330ms/step - loss: 0.4318 - accuracy: 0.8011 - val_loss: 0.4019 - val_accuracy: 0.8132\n",
      "Epoch 5/5\n",
      "313/313 [==============================] - 103s 328ms/step - loss: 0.4060 - accuracy: 0.8133 - val_loss: 0.4295 - val_accuracy: 0.8094\n"
     ]
    },
    {
     "data": {
      "text/plain": [
       "<tensorflow.python.keras.callbacks.History at 0x25c1a5bc4f0>"
      ]
     },
     "execution_count": 14,
     "metadata": {},
     "output_type": "execute_result"
    }
   ],
   "source": [
    "model = tf.keras.Sequential([\n",
    "    tf.keras.layers.experimental.preprocessing.RandomFlip('horizontal', input_shape=(64, 64, 3)),\n",
    "#     tf.keras.layers.experimental.preprocessing.RandomRotation(0.1),\n",
    "#     tf.keras.layers.experimental.preprocessing.RandomZoom(0.1),\n",
    "    \n",
    "    tf.keras.layers.Conv2D(32, (3, 3), padding='same', activation='relu'),\n",
    "    tf.keras.layers.MaxPooling2D((2,2)),\n",
    "    tf.keras.layers.Conv2D(32, (3, 3), padding='same', activation='relu'),\n",
    "    tf.keras.layers.MaxPooling2D((2,2)),\n",
    "    tf.keras.layers.Dropout(0.2), # 오버피팅 완화 기능 dropout, 20% 제거\n",
    "    tf.keras.layers.Conv2D(32, (3, 3), padding='same', activation='relu'),\n",
    "    tf.keras.layers.MaxPooling2D((2,2)),\n",
    "    tf.keras.layers.Flatten(),\n",
    "    tf.keras.layers.Dense(128, activation='relu'),\n",
    "    tf.keras.layers.Dense(1, activation='sigmoid')\n",
    "])\n",
    "\n",
    "model.compile(loss='binary_crossentropy', optimizer='adam', metrics=['accuracy'])\n",
    "model.fit(train_ds, validation_data=val_ds,epochs=5)"
   ]
  }
 ],
 "metadata": {
  "kernelspec": {
   "display_name": "Python 3",
   "language": "python",
   "name": "python3"
  },
  "language_info": {
   "codemirror_mode": {
    "name": "ipython",
    "version": 3
   },
   "file_extension": ".py",
   "mimetype": "text/x-python",
   "name": "python",
   "nbconvert_exporter": "python",
   "pygments_lexer": "ipython3",
   "version": "3.8.8"
  }
 },
 "nbformat": 4,
 "nbformat_minor": 5
}
