{
 "cells": [
  {
   "cell_type": "code",
   "execution_count": 1,
   "id": "2fb5d465",
   "metadata": {},
   "outputs": [],
   "source": [
    "import tensorflow as tf"
   ]
  },
  {
   "cell_type": "code",
   "execution_count": 10,
   "id": "c5eb0074",
   "metadata": {},
   "outputs": [],
   "source": [
    "tensor = tf.constant([3, 4, 5])\n",
    "tensor2 = tf.constant([6, 7, 8])\n",
    "\n",
    "tensor3 = tf.constant([[1, 2], \n",
    "                 [3, 4]])"
   ]
  },
  {
   "cell_type": "markdown",
   "id": "31ee8617",
   "metadata": {},
   "source": [
    "tf.add() 더하기\n",
    "tf.subtract() 빼기\n",
    "tf.divide() 나누기\n",
    "tf.multiply() 곱\n",
    "tf.matmul() 행렬곱\n",
    "tf.zeros() 0으로 이루어진 행렬 생성 괄호 안에는 갯수 혹은 shape"
   ]
  },
  {
   "cell_type": "code",
   "execution_count": 12,
   "id": "33aa43d9",
   "metadata": {},
   "outputs": [
    {
     "name": "stdout",
     "output_type": "stream",
     "text": [
      "tf.Tensor([0. 0. 0. 0. 0. 0. 0. 0. 0. 0.], shape=(10,), dtype=float32)\n",
      "tf.Tensor(\n",
      "[[0. 0.]\n",
      " [0. 0.]], shape=(2, 2), dtype=float32)\n",
      "(10,)\n",
      "(2, 2)\n"
     ]
    }
   ],
   "source": [
    "tensor4 = tf.zeros(10)\n",
    "tensor5 = tf.zeros([2, 2])\n",
    "\n",
    "print(tensor4)\n",
    "print(tensor5)\n",
    "print(tensor4.shape)\n",
    "print(tensor5.shape)"
   ]
  },
  {
   "cell_type": "code",
   "execution_count": 15,
   "id": "01ec453c",
   "metadata": {},
   "outputs": [
    {
     "name": "stdout",
     "output_type": "stream",
     "text": [
      "<dtype: 'int32'>\n",
      "(3,)\n",
      "tf.Tensor([3 4 5], shape=(3,), dtype=int32)\n"
     ]
    }
   ],
   "source": [
    "print(tensor.dtype)\n",
    "print(tensor.shape)\n",
    "print(tensor)"
   ]
  },
  {
   "cell_type": "code",
   "execution_count": 17,
   "id": "ab306c03",
   "metadata": {},
   "outputs": [
    {
     "name": "stdout",
     "output_type": "stream",
     "text": [
      "<tf.Variable 'Variable:0' shape=() dtype=float32, numpy=1.0>\n",
      "1.0\n"
     ]
    }
   ],
   "source": [
    "w = tf.Variable(1.0) # 변경할 때 쓰는 듯\n",
    "print(w)\n",
    "print(w.numpy())"
   ]
  },
  {
   "cell_type": "code",
   "execution_count": 18,
   "id": "f9cab28c",
   "metadata": {},
   "outputs": [
    {
     "data": {
      "text/plain": [
       "<tf.Variable 'Variable:0' shape=() dtype=float32, numpy=2.0>"
      ]
     },
     "execution_count": 18,
     "metadata": {},
     "output_type": "execute_result"
    }
   ],
   "source": [
    "w.assign(2)\n",
    "w"
   ]
  }
 ],
 "metadata": {
  "kernelspec": {
   "display_name": "Python 3",
   "language": "python",
   "name": "python3"
  },
  "language_info": {
   "codemirror_mode": {
    "name": "ipython",
    "version": 3
   },
   "file_extension": ".py",
   "mimetype": "text/x-python",
   "name": "python",
   "nbconvert_exporter": "python",
   "pygments_lexer": "ipython3",
   "version": "3.8.8"
  }
 },
 "nbformat": 4,
 "nbformat_minor": 5
}
